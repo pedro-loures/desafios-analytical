{
 "cells": [
  {
   "cell_type": "code",
   "execution_count": 3,
   "metadata": {},
   "outputs": [],
   "source": [
    "import utils as ut\n",
    "\n",
    "documents = os.listdir(ut.CORPUS)\n",
    "doc_path = [ut.CORPUS + '/' + document for document in documents]"
   ]
  },
  {
   "cell_type": "markdown",
   "metadata": {},
   "source": [
    "### Exemplo 1\n",
    "PRO\n",
    "> doesnt depent on orientation \\\n",
    "> doesnt depent on perspective \\\n",
    "> depends only on numpy and cv2\n",
    "\n",
    "CONS\n",
    "> Only works well in single documents with well delimited contours\n",
    "\n",
    "OBS\n",
    "> can be used for for colored documents in order to eliminate background \\\n",
    "> reorientation idea can be implemented, but in another way\n",
    "\n",
    "https://dontrepeatyourself.org/post/learn-opencv-by-building-a-document-scanner/ solution"
   ]
  },
  {
   "cell_type": "code",
   "execution_count": 6,
   "metadata": {},
   "outputs": [
    {
     "ename": "ModuleNotFoundError",
     "evalue": "No module named 'cv2'",
     "output_type": "error",
     "traceback": [
      "\u001b[0;31m---------------------------------------------------------------------------\u001b[0m",
      "\u001b[0;31mModuleNotFoundError\u001b[0m                       Traceback (most recent call last)",
      "\u001b[1;32m/mnt/c/Users/PLour/00_Tudo/00_GitHub/desafios-analytical/desafio-01/test.ipynb Cell 3\u001b[0m in \u001b[0;36m<cell line: 1>\u001b[0;34m()\u001b[0m\n\u001b[0;32m----> <a href='vscode-notebook-cell://wsl%2Bubuntu/mnt/c/Users/PLour/00_Tudo/00_GitHub/desafios-analytical/desafio-01/test.ipynb#ch0000000vscode-remote?line=0'>1</a>\u001b[0m \u001b[39mimport\u001b[39;00m \u001b[39mcv2\u001b[39;00m\n\u001b[1;32m      <a href='vscode-notebook-cell://wsl%2Bubuntu/mnt/c/Users/PLour/00_Tudo/00_GitHub/desafios-analytical/desafio-01/test.ipynb#ch0000000vscode-remote?line=2'>3</a>\u001b[0m \u001b[39mdef\u001b[39;00m \u001b[39morder_points\u001b[39m(pts):\n\u001b[1;32m      <a href='vscode-notebook-cell://wsl%2Bubuntu/mnt/c/Users/PLour/00_Tudo/00_GitHub/desafios-analytical/desafio-01/test.ipynb#ch0000000vscode-remote?line=3'>4</a>\u001b[0m \t\u001b[39m# initialzie a list of coordinates that will be ordered\u001b[39;00m\n\u001b[1;32m      <a href='vscode-notebook-cell://wsl%2Bubuntu/mnt/c/Users/PLour/00_Tudo/00_GitHub/desafios-analytical/desafio-01/test.ipynb#ch0000000vscode-remote?line=4'>5</a>\u001b[0m \t\u001b[39m# such that the first entry in the list is the top-left,\u001b[39;00m\n\u001b[1;32m      <a href='vscode-notebook-cell://wsl%2Bubuntu/mnt/c/Users/PLour/00_Tudo/00_GitHub/desafios-analytical/desafio-01/test.ipynb#ch0000000vscode-remote?line=5'>6</a>\u001b[0m \t\u001b[39m# the second entry is the top-right, the third is the\u001b[39;00m\n\u001b[1;32m      <a href='vscode-notebook-cell://wsl%2Bubuntu/mnt/c/Users/PLour/00_Tudo/00_GitHub/desafios-analytical/desafio-01/test.ipynb#ch0000000vscode-remote?line=6'>7</a>\u001b[0m \t\u001b[39m# bottom-right, and the fourth is the bottom-left\u001b[39;00m\n\u001b[1;32m      <a href='vscode-notebook-cell://wsl%2Bubuntu/mnt/c/Users/PLour/00_Tudo/00_GitHub/desafios-analytical/desafio-01/test.ipynb#ch0000000vscode-remote?line=7'>8</a>\u001b[0m \trect \u001b[39m=\u001b[39m np\u001b[39m.\u001b[39mzeros((\u001b[39m4\u001b[39m, \u001b[39m2\u001b[39m), dtype \u001b[39m=\u001b[39m \u001b[39m\"\u001b[39m\u001b[39mfloat32\u001b[39m\u001b[39m\"\u001b[39m)\n",
      "\u001b[0;31mModuleNotFoundError\u001b[0m: No module named 'cv2'"
     ]
    }
   ],
   "source": [
    "import cv2\n",
    "\n",
    "def order_points(pts):\n",
    "\t# initialzie a list of coordinates that will be ordered\n",
    "\t# such that the first entry in the list is the top-left,\n",
    "\t# the second entry is the top-right, the third is the\n",
    "\t# bottom-right, and the fourth is the bottom-left\n",
    "\trect = np.zeros((4, 2), dtype = \"float32\")\n",
    "\t# the top-left point will have the smallest sum, whereas\n",
    "\t# the bottom-right point will have the largest sum\n",
    "\ts = pts.sum(axis = 1)\n",
    "\trect[0] = pts[np.argmin(s)]\n",
    "\trect[2] = pts[np.argmax(s)]\n",
    "\t# now, compute the difference between the points, the\n",
    "\t# top-right point will have the smallest difference,\n",
    "\t# whereas the bottom-left will have the largest difference\n",
    "\tdiff = np.diff(pts, axis = 1)\n",
    "\trect[1] = pts[np.argmin(diff)]\n",
    "\trect[3] = pts[np.argmax(diff)]\n",
    "\t# return the ordered coordinates\n",
    "\treturn rect\n",
    "\n",
    "def four_point_transform(image, pts):\n",
    "\t# obtain a consistent order of the points and unpack them\n",
    "\t# individually\n",
    "\trect = order_points(pts)\n",
    "\t(tl, tr, br, bl) = rect\n",
    "\t# compute the width of the new image, which will be the\n",
    "\t# maximum distance between bottom-right and bottom-left\n",
    "\t# x-coordiates or the top-right and top-left x-coordinates\n",
    "\twidthA = np.sqrt(((br[0] - bl[0]) ** 2) + ((br[1] - bl[1]) ** 2))\n",
    "\twidthB = np.sqrt(((tr[0] - tl[0]) ** 2) + ((tr[1] - tl[1]) ** 2))\n",
    "\tmaxWidth = max(int(widthA), int(widthB))\n",
    "\t# compute the height of the new image, which will be the\n",
    "\t# maximum distance between the top-right and bottom-right\n",
    "\t# y-coordinates or the top-left and bottom-left y-coordinates\n",
    "\theightA = np.sqrt(((tr[0] - br[0]) ** 2) + ((tr[1] - br[1]) ** 2))\n",
    "\theightB = np.sqrt(((tl[0] - bl[0]) ** 2) + ((tl[1] - bl[1]) ** 2))\n",
    "\tmaxHeight = max(int(heightA), int(heightB))\n",
    "\t# now that we have the dimensions of the new image, construct\n",
    "\t# the set of destination points to obtain a \"birds eye view\",\n",
    "\t# (i.e. top-down view) of the image, again specifying points\n",
    "\t# in the top-left, top-right, bottom-right, and bottom-left\n",
    "\t# order\n",
    "\tdst = np.array([\n",
    "\t\t[0, 0],\n",
    "\t\t[maxWidth - 1, 0],\n",
    "\t\t[maxWidth - 1, maxHeight - 1],\n",
    "\t\t[0, maxHeight - 1]], dtype = \"float32\")\n",
    "\t# compute the perspective transform matrix and then apply it\n",
    "\tM = cv2.getPerspectiveTransform(rect, dst)\n",
    "\twarped = cv2.warpPerspective(image, M, (maxWidth, maxHeight))\n",
    "\t# return the warped image\n",
    "\treturn warped\n",
    "\n",
    "def scan_document0(document):\n",
    "    img = cv2.imread(document, cv2.IMREAD_COLOR)\n",
    "    plt.imshow(img)\n",
    "    plt.show()\n",
    "\n",
    "    height = 800\n",
    "    width = 600\n",
    "    green = (0, 255, 0)\n",
    "\n",
    "    image = cv2.imread(document) # can also read with input == 0 and skip gray\n",
    "    image = cv2.resize(image, (width, height))\n",
    "    orig_image = image.copy()\n",
    "\n",
    "    gray = cv2.cvtColor(image, cv2.COLOR_BGR2GRAY) # convert the image to gray scale\n",
    "    blur = cv2.GaussianBlur(gray, (5, 5), 0) # Add Gaussian blur\n",
    "    edged = cv2.Canny(blur, 75, 200) # Apply the Canny algorithm to find the edges TODO Test other edge alg\n",
    "\n",
    "    contours, _ = cv2.findContours(edged, cv2.RETR_LIST, cv2.CHAIN_APPROX_SIMPLE)\n",
    "    contours = sorted(contours, key=cv2.contourArea, reverse=True)\n",
    "\n",
    "\n",
    "    # plt.imshow(orig_image)\n",
    "\n",
    "    image_contour = image.copy()\n",
    "    cv2.drawContours(image_contour, contours, -1, green, 3)\n",
    "    plt.figure()\n",
    "    plt.imshow(image_contour)\n",
    "    plt.show()\n",
    "\n",
    "    # go through each contour\n",
    "    for contour in contours:\n",
    "        # we approximate the contour\n",
    "        peri = cv2.arcLength(contour, True)\n",
    "        approx = cv2.approxPolyDP(contour, 0.05 * peri, True)\n",
    "        # if we found a countour with 4 points we break the for loop\n",
    "        # (we can assume that we have found our document)\n",
    "        if len(approx) == 4:\n",
    "            doc_cnts = approx\n",
    "            break\n",
    "\n",
    "    # plt.imshow(orig_image)\n",
    "    image_contour = image.copy()\n",
    "    cv2.drawContours(image_contour, [doc_cnts], -1, green, 3)\n",
    "    plt.figure()\n",
    "    plt.imshow(image_contour)\n",
    "    plt.show()\n",
    "\n",
    "    # plt.imshow(image_contour)\n",
    "    # plt.show()\n",
    "    # apply warp perspective to get the top-down view\n",
    "    warped = four_point_transform(orig_image, doc_cnts.reshape(4, 2))\n",
    "    # # convert the warped image to grayscale\n",
    "    # warped = cv2.cvtColor(warped, cv2.COLOR_BGR2GRAY)\n",
    "\n",
    "    plt.imshow(cv2.resize(warped, (600, 800)))\n",
    "    plt.show()"
   ]
  },
  {
   "cell_type": "code",
   "execution_count": 5,
   "metadata": {},
   "outputs": [
    {
     "ename": "NameError",
     "evalue": "name 'cv2' is not defined",
     "output_type": "error",
     "traceback": [
      "\u001b[0;31m---------------------------------------------------------------------------\u001b[0m",
      "\u001b[0;31mNameError\u001b[0m                                 Traceback (most recent call last)",
      "\u001b[1;32m/mnt/c/Users/PLour/00_Tudo/00_GitHub/desafios-analytical/desafio-01/test.ipynb Cell 4\u001b[0m in \u001b[0;36m<cell line: 2>\u001b[0;34m()\u001b[0m\n\u001b[1;32m      <a href='vscode-notebook-cell://wsl%2Bubuntu/mnt/c/Users/PLour/00_Tudo/00_GitHub/desafios-analytical/desafio-01/test.ipynb#ch0000002vscode-remote?line=0'>1</a>\u001b[0m document \u001b[39m=\u001b[39m doc_path[\u001b[39m4\u001b[39m]\n\u001b[0;32m----> <a href='vscode-notebook-cell://wsl%2Bubuntu/mnt/c/Users/PLour/00_Tudo/00_GitHub/desafios-analytical/desafio-01/test.ipynb#ch0000002vscode-remote?line=1'>2</a>\u001b[0m scan_document0(document)\n",
      "\u001b[1;32m/mnt/c/Users/PLour/00_Tudo/00_GitHub/desafios-analytical/desafio-01/test.ipynb Cell 4\u001b[0m in \u001b[0;36mscan_document0\u001b[0;34m(document)\u001b[0m\n\u001b[1;32m     <a href='vscode-notebook-cell://wsl%2Bubuntu/mnt/c/Users/PLour/00_Tudo/00_GitHub/desafios-analytical/desafio-01/test.ipynb#ch0000002vscode-remote?line=53'>54</a>\u001b[0m \u001b[39mdef\u001b[39;00m \u001b[39mscan_document0\u001b[39m(document):\n\u001b[0;32m---> <a href='vscode-notebook-cell://wsl%2Bubuntu/mnt/c/Users/PLour/00_Tudo/00_GitHub/desafios-analytical/desafio-01/test.ipynb#ch0000002vscode-remote?line=54'>55</a>\u001b[0m     img \u001b[39m=\u001b[39m cv2\u001b[39m.\u001b[39mimread(document, cv2\u001b[39m.\u001b[39mIMREAD_COLOR)\n\u001b[1;32m     <a href='vscode-notebook-cell://wsl%2Bubuntu/mnt/c/Users/PLour/00_Tudo/00_GitHub/desafios-analytical/desafio-01/test.ipynb#ch0000002vscode-remote?line=55'>56</a>\u001b[0m     plt\u001b[39m.\u001b[39mimshow(img)\n\u001b[1;32m     <a href='vscode-notebook-cell://wsl%2Bubuntu/mnt/c/Users/PLour/00_Tudo/00_GitHub/desafios-analytical/desafio-01/test.ipynb#ch0000002vscode-remote?line=56'>57</a>\u001b[0m     plt\u001b[39m.\u001b[39mshow()\n",
      "\u001b[0;31mNameError\u001b[0m: name 'cv2' is not defined"
     ]
    }
   ],
   "source": [
    "document = doc_path[4]\n",
    "scan_document0(document)"
   ]
  },
  {
   "cell_type": "code",
   "execution_count": null,
   "metadata": {},
   "outputs": [],
   "source": []
  }
 ],
 "metadata": {
  "kernelspec": {
   "display_name": "Python 3.10.5 64-bit",
   "language": "python",
   "name": "python3"
  },
  "language_info": {
   "codemirror_mode": {
    "name": "ipython",
    "version": 3
   },
   "file_extension": ".py",
   "mimetype": "text/x-python",
   "name": "python",
   "nbconvert_exporter": "python",
   "pygments_lexer": "ipython3",
   "version": "3.10.5"
  },
  "orig_nbformat": 4,
  "vscode": {
   "interpreter": {
    "hash": "97cc609b13305c559618ec78a438abc56230b9381f827f22d070313b9a1f3777"
   }
  }
 },
 "nbformat": 4,
 "nbformat_minor": 2
}
